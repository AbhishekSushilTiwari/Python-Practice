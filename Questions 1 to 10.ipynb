{
 "cells": [
  {
   "cell_type": "markdown",
   "id": "8a2005c2-8df4-4b9a-bbd8-ae4db847d1b1",
   "metadata": {},
   "source": [
    "*Q.1* Write a program which will find all such numbers which are divisible by 7 but are not a multiple of 5, between 2000 and 3200 (both included). The numbers obtained should be printed in a comma-separated sequence on a single line."
   ]
  },
  {
   "cell_type": "code",
   "execution_count": 1,
   "id": "2038e68a-9ecf-4b8d-aaef-f4835b9f089b",
   "metadata": {},
   "outputs": [
    {
     "name": "stdout",
     "output_type": "stream",
     "text": [
      "[2002, 2009, 2016, 2023, 2037, 2044, 2051, 2058, 2072, 2079, 2086, 2093, 2107, 2114, 2121, 2128, 2142, 2149, 2156, 2163, 2177, 2184, 2191, 2198, 2212, 2219, 2226, 2233, 2247, 2254, 2261, 2268, 2282, 2289, 2296, 2303, 2317, 2324, 2331, 2338, 2352, 2359, 2366, 2373, 2387, 2394, 2401, 2408, 2422, 2429, 2436, 2443, 2457, 2464, 2471, 2478, 2492, 2499, 2506, 2513, 2527, 2534, 2541, 2548, 2562, 2569, 2576, 2583, 2597, 2604, 2611, 2618, 2632, 2639, 2646, 2653, 2667, 2674, 2681, 2688, 2702, 2709, 2716, 2723, 2737, 2744, 2751, 2758, 2772, 2779, 2786, 2793, 2807, 2814, 2821, 2828, 2842, 2849, 2856, 2863, 2877, 2884, 2891, 2898, 2912, 2919, 2926, 2933, 2947, 2954, 2961, 2968, 2982, 2989, 2996, 3003, 3017, 3024, 3031, 3038, 3052, 3059, 3066, 3073, 3087, 3094, 3101, 3108, 3122, 3129, 3136, 3143, 3157, 3164, 3171, 3178, 3192, 3199]\n"
     ]
    }
   ],
   "source": [
    "a = []\n",
    "for i in range(2000,3201):\n",
    "    if i % 7 == 0 and i % 5 != 0:\n",
    "        a.append(i)\n",
    "print(a)   "
   ]
  },
  {
   "cell_type": "code",
   "execution_count": 2,
   "id": "ad2504f7-03cc-44b2-9b3e-914d916cfdff",
   "metadata": {},
   "outputs": [
    {
     "name": "stdout",
     "output_type": "stream",
     "text": [
      "2002,2009,2016,2023,2037,2044,2051,2058,2072,2079,2086,2093,2107,2114,2121,2128,2142,2149,2156,2163,2177,2184,2191,2198,2212,2219,2226,2233,2247,2254,2261,2268,2282,2289,2296,2303,2317,2324,2331,2338,2352,2359,2366,2373,2387,2394,2401,2408,2422,2429,2436,2443,2457,2464,2471,2478,2492,2499,2506,2513,2527,2534,2541,2548,2562,2569,2576,2583,2597,2604,2611,2618,2632,2639,2646,2653,2667,2674,2681,2688,2702,2709,2716,2723,2737,2744,2751,2758,2772,2779,2786,2793,2807,2814,2821,2828,2842,2849,2856,2863,2877,2884,2891,2898,2912,2919,2926,2933,2947,2954,2961,2968,2982,2989,2996,3003,3017,3024,3031,3038,3052,3059,3066,3073,3087,3094,3101,3108,3122,3129,3136,3143,3157,3164,3171,3178,3192,3199\n"
     ]
    }
   ],
   "source": [
    "l=[]\n",
    "for i in range(2000, 3201):\n",
    "    if (i%7==0) and (i%5!=0):\n",
    "        l.append(str(i))\n",
    "print (','.join(l))"
   ]
  },
  {
   "cell_type": "code",
   "execution_count": null,
   "id": "3f0a2524-b7f1-4be1-9202-8a9ff3e68082",
   "metadata": {},
   "outputs": [],
   "source": []
  },
  {
   "cell_type": "markdown",
   "id": "499d273b-e5b6-44f0-a9d8-4a19135a8b09",
   "metadata": {},
   "source": [
    "*Q.2* Write a program which can compute the factorial of a given numbers. The results should be printed in a comma-separated sequence on a single line. Suppose the following input is supplied to the program: 8 Then, the output should be: 40320\r\n",
    "\r\n",
    "Hints: In case of input data being supplied to the question, it should be assumed to be a console input."
   ]
  },
  {
   "cell_type": "code",
   "execution_count": 3,
   "id": "e1e86768-5185-45ad-890a-fd4140d51f64",
   "metadata": {},
   "outputs": [
    {
     "name": "stdin",
     "output_type": "stream",
     "text": [
      " 8\n"
     ]
    },
    {
     "name": "stdout",
     "output_type": "stream",
     "text": [
      "40320\n"
     ]
    }
   ],
   "source": [
    "def fact(x):\n",
    "    if x == 0 or x == 1:\n",
    "        return 1\n",
    "    else:\n",
    "        return x * fact(x - 1)\n",
    "        \n",
    "a = int(input())\n",
    "print(fact(a))"
   ]
  },
  {
   "cell_type": "code",
   "execution_count": null,
   "id": "50ae8934-671a-49a2-9bf5-3bfc2058c3ac",
   "metadata": {},
   "outputs": [],
   "source": []
  },
  {
   "cell_type": "markdown",
   "id": "4889c81a-12cf-4323-9650-1f8d4e5a1634",
   "metadata": {},
   "source": [
    "*Q.3* With a given integral number n, write a program to generate a dictionary that contains (i, i*i) such that is an integral number between 1 and n (both included). and then the program should print the dictionary. Suppose the following input is supplied to the program: 8 Then, the output should be: {1: 1, 2: 4, 3: 9, 4: 16, 5: 25, 6: 36, 7: 49, 8: 64}\r\n",
    "\r\n",
    "Hints: In case of input data being supplied to the question, it should be assumed to be a console input. Consider use dict()"
   ]
  },
  {
   "cell_type": "code",
   "execution_count": 5,
   "id": "ad0cf272-5216-436c-9b12-963388182a5b",
   "metadata": {},
   "outputs": [
    {
     "name": "stdin",
     "output_type": "stream",
     "text": [
      " 8\n"
     ]
    },
    {
     "name": "stdout",
     "output_type": "stream",
     "text": [
      "{1: 1, 2: 4, 3: 9, 4: 16, 5: 25, 6: 36, 7: 49, 8: 64}\n"
     ]
    }
   ],
   "source": [
    "x = int(input())\n",
    "a = {}\n",
    "for i in range(1, x+1):\n",
    "    a[i] = i*i\n",
    "print(a)"
   ]
  },
  {
   "cell_type": "code",
   "execution_count": 5,
   "id": "b57b472f-a051-4768-88e0-edb8a5449c3a",
   "metadata": {},
   "outputs": [
    {
     "name": "stdin",
     "output_type": "stream",
     "text": [
      " 8\n"
     ]
    },
    {
     "name": "stdout",
     "output_type": "stream",
     "text": [
      "{1: 1, 2: 4, 3: 9, 4: 16, 5: 25, 6: 36, 7: 49, 8: 64}\n"
     ]
    }
   ],
   "source": [
    "n=int(input())\n",
    "d={x:x*x for x in range(1,n+1)}\n",
    "print(d)"
   ]
  },
  {
   "cell_type": "code",
   "execution_count": null,
   "id": "1e4f1de7-c599-41c9-b5b3-c8724c4dc27d",
   "metadata": {},
   "outputs": [],
   "source": []
  },
  {
   "cell_type": "markdown",
   "id": "756d8403-21e8-4f28-ab18-4e3098526cdc",
   "metadata": {},
   "source": [
    "*Q.4* Write a program which accepts a sequence of comma-separated numbers from console and generate a list and a tuple which contains every number. Suppose the following input is supplied to the program: 34,67,55,33,12,98 Then, the output should be: ['34', '67', '55', '33', '12', '98'] ('34', '67', '55', '33', '12', '98')\r\n",
    "\r\n",
    "Hints: In case of input data being supplied to the question, it should be assumed to be a console input. tuple() method can convert list to tuple"
   ]
  },
  {
   "cell_type": "code",
   "execution_count": 26,
   "id": "c1cca77a-b565-4429-9197-2ea5743935b7",
   "metadata": {},
   "outputs": [
    {
     "name": "stdin",
     "output_type": "stream",
     "text": [
      " 5,8,4,5\n"
     ]
    },
    {
     "name": "stdout",
     "output_type": "stream",
     "text": [
      "['5', '8', '4', '5']\n",
      "('5', '8', '4', '5')\n"
     ]
    }
   ],
   "source": [
    "a = tuple(map(str, input().split(',')))\n",
    "\n",
    "b =list(a)\n",
    "print(b)\n",
    "print(a)\n"
   ]
  },
  {
   "cell_type": "code",
   "execution_count": null,
   "id": "1e6a64f4-b6a1-483b-88ad-5dd45eb55426",
   "metadata": {},
   "outputs": [],
   "source": []
  },
  {
   "cell_type": "markdown",
   "id": "bc620b09-4d50-4bd5-981a-5f669e07828b",
   "metadata": {},
   "source": [
    "*Q.5* Define a class which has at least two methods: getString: to get a string from console input printString: to print the string in upper case. Also please include simple test function to test the class methods.\r\n",
    "\r\n",
    "Hints: Use init method to construct some parameters"
   ]
  },
  {
   "cell_type": "code",
   "execution_count": 29,
   "id": "dcadcaed-2731-4c95-ae31-02947e5f17b3",
   "metadata": {},
   "outputs": [],
   "source": [
    "### 1. What is a Class?\n",
    "### A class is like a recipe. It tells Python how to create objects that do certain things. Here, the recipe (class) is named InputOutString.\n",
    "\n",
    "### 2. What's Inside the Class?\n",
    "### The class has two main parts:\n",
    "\n",
    "### Data (self.s): This is where we store a string. Think of it like a box to keep something.\n",
    "### Actions (methods): These are the \"things\" the class can do. In this case, it has two actions:\n",
    "### getString: It takes some text that you type and stores it in the box (self.s).\n",
    "### printString: It takes the text from the box and prints it in BIG LETTERS (uppercase)."
   ]
  },
  {
   "cell_type": "code",
   "execution_count": 30,
   "id": "7770e5b5-173b-4771-8e77-91d60d305725",
   "metadata": {},
   "outputs": [
    {
     "name": "stdin",
     "output_type": "stream",
     "text": [
      " fsvfghdsgd\n"
     ]
    },
    {
     "name": "stdout",
     "output_type": "stream",
     "text": [
      "FSVFGHDSGD\n"
     ]
    }
   ],
   "source": [
    "class InputOutString:\n",
    "    def __init__(self):\n",
    "        self.s = \"\"\n",
    "### When the class is created, the __init__ method runs automatically.\n",
    "### It sets up a box called self.s to store the string. At first, the box is empty (\"\").\n",
    "\n",
    "    \n",
    "    def getString(self):\n",
    "        self.s = input()\n",
    "### This method (getString) asks the user to type something using input().\n",
    "### Whatever the user types is saved in the self.s box.\n",
    "\n",
    "    def printString(self):\n",
    "        print(self.s.upper())\n",
    "### This method (printString) takes the text from the box (self.s) and converts it to BIG LETTERS using .upper().\n",
    "### Then, it prints the uppercase text using print().\n",
    "\n",
    "a = InputOutString()   # Creates an object called \"a\" from the class.\n",
    "a.getString()          # Asks the user to type something (e.g., \"adfADF\").\n",
    "a.printString()        # Prints the uppercase version of the input (e.g., \"ADFADF\")."
   ]
  },
  {
   "cell_type": "code",
   "execution_count": null,
   "id": "58f53a38-e43e-4903-a873-babd2f489cd9",
   "metadata": {},
   "outputs": [],
   "source": []
  },
  {
   "cell_type": "markdown",
   "id": "544e4daf-d588-4964-8de5-56cc8d455991",
   "metadata": {},
   "source": [
    "*Q.6* Write a program that calculates and prints the value according to the given formula: Q = Square root of [(2 * C * D)/H] Following are the fixed values of C and H: C is 50. H is 30. D is the variable whose values should be input to your program in a comma-separated sequence. Example Let us assume the following comma separated input sequence is given to the program: 100,150,180 The output of the program should be: 18,22,24\r\n",
    "\r\n",
    "Hints: If the output received is in decimal form, it should be rounded off to its nearest value (for example, if the output received is 26.0, it should be printed as 26) In case of input data being supplied to the question, it should be assumed to be a console input."
   ]
  },
  {
   "cell_type": "code",
   "execution_count": 40,
   "id": "cb581f7d-0b92-435b-9907-944f424c52b8",
   "metadata": {},
   "outputs": [
    {
     "name": "stdin",
     "output_type": "stream",
     "text": [
      "Input numbers comma-separated: 100,150,180\n"
     ]
    },
    {
     "name": "stdout",
     "output_type": "stream",
     "text": [
      "18,22,24\n"
     ]
    }
   ],
   "source": [
    "import math\n",
    "C=50\n",
    "H=30\n",
    "value = []\n",
    "\n",
    "items= [x for x in input(\"Input numbers comma-separated:\").split(',')]\n",
    "\n",
    "for D in items:\n",
    "    value.append(str(int(round(math.sqrt(2*C*float(D)/H)))))\n",
    "\n",
    "print (','.join(value))"
   ]
  },
  {
   "cell_type": "code",
   "execution_count": null,
   "id": "ec63f053-ffb3-4206-8e13-a7e0fa3683c0",
   "metadata": {},
   "outputs": [],
   "source": []
  },
  {
   "cell_type": "markdown",
   "id": "a3b89ef0-5d08-47d7-b96c-f427737b6f16",
   "metadata": {},
   "source": [
    "*Q.7* Write a program which takes 2 digits, X,Y as input and generates a 2-dimensional array. The element value in the i-th row and j-th column of the array should be i*j. Note: i=0,1.., X-1; j=0,1,¡­Y-1. Example Suppose the following inputs are given to the program: 3,5 Then, the output of the program should be: [[0, 0, 0, 0, 0], [0, 1, 2, 3, 4], [0, 2, 4, 6, 8]]\n",
    "\n",
    "Hints: Note: In case of input data being supplied to the question, it should be assumed to be a console input in a comma-separated form."
   ]
  },
  {
   "cell_type": "code",
   "execution_count": 12,
   "id": "ccd2a04a-17f8-41c9-8806-5bf4e0cfc4b3",
   "metadata": {},
   "outputs": [
    {
     "name": "stdin",
     "output_type": "stream",
     "text": [
      " 4,5\n"
     ]
    },
    {
     "name": "stdout",
     "output_type": "stream",
     "text": [
      "[[0, 0, 0, 0, 0, 0], [0, 1, 2, 3, 4, 5], [0, 2, 4, 6, 8, 10], [0, 3, 6, 9, 12, 15]]\n"
     ]
    }
   ],
   "source": [
    "input_str = input()\n",
    "dimensions=[int(x) for x in input_str.split(',')]\n",
    "row = dimensions[0]\n",
    "col = dimensions[1]\n",
    "\n",
    "result = []\n",
    "\n",
    "for i in range(row):\n",
    "    a = []\n",
    "    for j in range(column):\n",
    "        a.append(i * j)\n",
    "    result.append(a)\n",
    "\n",
    "print(result)"
   ]
  },
  {
   "cell_type": "code",
   "execution_count": null,
   "id": "e789c548-aa4b-4d8f-9a25-265ced6dcc4d",
   "metadata": {},
   "outputs": [],
   "source": []
  },
  {
   "cell_type": "markdown",
   "id": "e3c7f5c1-6873-45da-a342-246521314093",
   "metadata": {},
   "source": [
    "*Q.8* Write a program that accepts a comma separated sequence of words as input and prints the words in a comma-separated sequence after sorting them alphabetically.Suppose the following input is supplied to the program: without,hello,bag,world\r\n",
    "\r\n",
    "Then, the output should be: bag,hello,without,world"
   ]
  },
  {
   "cell_type": "code",
   "execution_count": 22,
   "id": "4f416dc8-1a14-465b-9e5a-4147ab5ceb1c",
   "metadata": {},
   "outputs": [
    {
     "name": "stdin",
     "output_type": "stream",
     "text": [
      " without,hello,bag,world\n"
     ]
    },
    {
     "name": "stdout",
     "output_type": "stream",
     "text": [
      "bag,hello,without,world\n"
     ]
    }
   ],
   "source": [
    "words = input()\n",
    "l = words.split(\",\")\n",
    "out = sorted(l, key = str)\n",
    "print(','.join(out))"
   ]
  },
  {
   "cell_type": "code",
   "execution_count": null,
   "id": "c49c7669-e46c-42ab-b75f-33f83428573b",
   "metadata": {},
   "outputs": [],
   "source": []
  },
  {
   "cell_type": "markdown",
   "id": "005e8fa7-4b5f-48a5-94ee-bc28c9d25a64",
   "metadata": {},
   "source": [
    "*Q.9* Write a program that accepts sequence of lines as input and prints the lines after making all characters in the sentence capitalized. Suppose the following input is supplied to the program:\n",
    "\n",
    "Hello world  \n",
    "Practice makes perfect  \n",
    "Then, the output should be:\n",
    "\n",
    "HELLO WORLD  \n",
    "PRACTICE MAKES PERFECT  \n",
    "Hints: In case of input data being supplied to the question, it should be assumed to be a console input."
   ]
  },
  {
   "cell_type": "markdown",
   "id": "96a43433-a6be-4e65-a361-cc770719e033",
   "metadata": {},
   "source": [
    "lines = []\n",
    "while True:\n",
    "    s = input()\n",
    "    if s:\n",
    "        lines.append(s.upper())\n",
    "    else:\n",
    "        break;\n",
    "\n",
    "for sentence in lines:\n",
    "    print(sentence)"
   ]
  },
  {
   "cell_type": "code",
   "execution_count": null,
   "id": "a780c092-58ce-45d1-af4a-a6a91c3e226f",
   "metadata": {},
   "outputs": [],
   "source": []
  },
  {
   "cell_type": "markdown",
   "id": "86d2a987-28c6-4439-acd0-69dfd3d960e9",
   "metadata": {},
   "source": [
    "*Q.10* Write a program that accepts a sequence of whitespace separated words as input and prints the words after removing all duplicate words and sorting them alphanumerically. Suppose the following input is supplied to the program:\n",
    "\n",
    "hello world and practice makes perfect and hello world again\n",
    "Then, the output should be:\n",
    "\n",
    "again and hello makes perfect practice world\n",
    "Hints: In case of input data being supplied to the question, it should be assumed to be a console input. We use set container to remove duplicated data automatically and then use sorted() to sort the data."
   ]
  },
  {
   "cell_type": "code",
   "execution_count": 24,
   "id": "c7c70af8-7bbc-4625-8817-a6c1827c04df",
   "metadata": {},
   "outputs": [
    {
     "name": "stdin",
     "output_type": "stream",
     "text": [
      " bag ball ant what what test test\n"
     ]
    },
    {
     "name": "stdout",
     "output_type": "stream",
     "text": [
      "ant bag ball test what\n"
     ]
    }
   ],
   "source": [
    "s = input()\n",
    "words = s.split(\" \")\n",
    "print (\" \".join(sorted(list(set(words)))))"
   ]
  },
  {
   "cell_type": "code",
   "execution_count": null,
   "id": "1f581ddc-afba-4ca5-bb77-a27100ac72c5",
   "metadata": {},
   "outputs": [],
   "source": []
  }
 ],
 "metadata": {
  "kernelspec": {
   "display_name": "Python 3 (ipykernel)",
   "language": "python",
   "name": "python3"
  },
  "language_info": {
   "codemirror_mode": {
    "name": "ipython",
    "version": 3
   },
   "file_extension": ".py",
   "mimetype": "text/x-python",
   "name": "python",
   "nbconvert_exporter": "python",
   "pygments_lexer": "ipython3",
   "version": "3.12.4"
  }
 },
 "nbformat": 4,
 "nbformat_minor": 5
}
